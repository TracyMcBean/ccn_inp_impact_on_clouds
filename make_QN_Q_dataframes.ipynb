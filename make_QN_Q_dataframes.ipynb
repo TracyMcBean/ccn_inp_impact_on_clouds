{
 "cells": [
  {
   "attachments": {},
   "cell_type": "markdown",
   "metadata": {},
   "source": [
    "# Create selection of data for hydrometeor analysis"
   ]
  },
  {
   "cell_type": "code",
   "execution_count": 4,
   "metadata": {},
   "outputs": [],
   "source": [
    "import xarray as xr\n",
    "import numpy as np\n",
    "import pandas as pd\n",
    "import glob"
   ]
  },
  {
   "cell_type": "code",
   "execution_count": 5,
   "metadata": {},
   "outputs": [
    {
     "name": "stdout",
     "output_type": "stream",
     "text": [
      "['../../data/exp_data_v1/METEOGRAM_patch001_20211026_awipev.nc', '../../data/exp_data_v1/METEOGRAM_patch001_20211031_awipev.nc', '../../data/exp_data_v1/METEOGRAM_patch001_20211001_awipev.nc', '../../data/exp_data_v1/METEOGRAM_patch001_20211019_awipev.nc', '../../data/exp_data_v1/METEOGRAM_patch001_20211024_awipev.nc', '../../data/exp_data_v1/METEOGRAM_patch001_20211007_awipev.nc', '../../data/exp_data_v1/METEOGRAM_patch001_20211018_awipev.nc', '../../data/exp_data_v1/METEOGRAM_patch001_20211008_awipev.nc', '../../data/exp_data_v1/METEOGRAM_patch001_20211014_awipev.nc', '../../data/exp_data_v1/METEOGRAM_patch001_20211009_awipev.nc', '../../data/exp_data_v1/METEOGRAM_patch001_20211015_awipev.nc', '../../data/exp_data_v1/METEOGRAM_patch001_20211010_awipev.nc', '../../data/exp_data_v1/METEOGRAM_patch001_20211012_awipev.nc', '../../data/exp_data_v1/METEOGRAM_patch001_20211013_awipev.nc', '../../data/exp_data_v1/METEOGRAM_patch001_20211027_awipev.nc', '../../data/exp_data_v1/METEOGRAM_patch001_20211006_awipev.nc', '../../data/exp_data_v1/METEOGRAM_patch001_20211011_awipev.nc', '../../data/exp_data_v1/METEOGRAM_patch001_20211020_awipev.nc', '../../data/exp_data_v1/METEOGRAM_patch001_20211004_awipev.nc', '../../data/exp_data_v1/METEOGRAM_patch001_20211003_awipev.nc', '../../data/exp_data_v1/METEOGRAM_patch001_20211005_awipev.nc', '../../data/exp_data_v1/METEOGRAM_patch001_20211023_awipev.nc', '../../data/exp_data_v1/METEOGRAM_patch001_20211022_awipev.nc', '../../data/exp_data_v1/METEOGRAM_patch001_20211016_awipev.nc', '../../data/exp_data_v1/METEOGRAM_patch001_20211021_awipev.nc', '../../data/exp_data_v1/METEOGRAM_patch001_20211025_awipev.nc', '../../data/exp_data_v1/METEOGRAM_patch001_20211030_awipev.nc', '../../data/exp_data_v1/METEOGRAM_patch001_20211017_awipev.nc', '../../data/exp_data_v1/METEOGRAM_patch001_20211029_awipev.nc', '../../data/exp_data_v1/METEOGRAM_patch001_20211028_awipev.nc', '../../data/exp_data_v1/METEOGRAM_patch001_20211002_awipev.nc']\n",
      "['20211001', '20211002', '20211003', '20211004', '20211005', '20211006', '20211007', '20211008', '20211009', '20211010', '20211011', '20211012', '20211013', '20211014', '20211015', '20211016', '20211017', '20211018', '20211019', '20211020', '20211021', '20211022', '20211023', '20211024', '20211025', '20211026', '20211027', '20211028', '20211029', '20211030', '20211031']\n",
      "31\n",
      "31\n",
      "['20211027', '20211016', '20211006', '20211024', '20211005', '20211031', '20211029', '20211011', '20211022', '20211001', '20211026', '20211009', '20211010', '20211028', '20211025', '20211012', '20211004', '20211008', '20211003', '20211013', '20211014', '20211017', '20211007', '20211015', '20211023', '20211020', '20211021', '20211030', '20211002', '20211018', '20211019']\n"
     ]
    }
   ],
   "source": [
    "# find all directories which have the same name in the folder in exp_path/icon_burga_v1 and exp_path/icon_burga_v0 and store the first 8 digits of the names in a list \n",
    "#exp_path = '/data/inscape/icon/experiments/nyalesund/testbed/'\n",
    "exp_path='../../data/'\n",
    "exp_name_v1 = 'exp_data_v1/'\n",
    "exp_name_v0 = 'exp_data_v0/'\n",
    "\n",
    "# find all directories which have the same name in the folder in exp_path/icon_burga_v1 and exp_path/icon_burga_v0 and store the first 8 digits of the names in a list\n",
    "exp_dirs_v1 = glob.glob(exp_path+exp_name_v1+'*')\n",
    "exp_dirs_v0 = glob.glob(exp_path+exp_name_v0+'*')\n",
    "print(exp_dirs_v1)\n",
    "# sort the lists\n",
    "exp_dirs_v1.sort()\n",
    "exp_dirs_v0.sort()\n",
    "\n",
    "# create a list with the first 8 digits of the names which come after the last / in the directory names\n",
    "exp_names_v1 = [exp_dir.split('/')[-1][19:27] for exp_dir in exp_dirs_v1]\n",
    "exp_names_v0 = [exp_dir.split('/')[-1][19:27] for exp_dir in exp_dirs_v0]\n",
    "print(exp_names_v1)\n",
    "\n",
    "# compare the lists and find the common elements\n",
    "exp_dates = list(set(exp_names_v1) & set(exp_names_v0))\n",
    "\n",
    "print(len(exp_dates))\n",
    "\n",
    "# only select the elements which are between 20210701 and 202112031 to decrease data size and to \n",
    "#exp_dates = [exp_date for exp_date in exp_dates if int(exp_date) >= 20210801 and int(exp_date) <= 20210805]\n",
    "print(len(exp_dates))\n",
    "print(exp_dates)\n",
    "# delete 20210905 because the Meteogram doesn't exist for this date\n",
    "#exp_dates.remove('20210905')"
   ]
  },
  {
   "cell_type": "code",
   "execution_count": 7,
   "metadata": {},
   "outputs": [
    {
     "name": "stdout",
     "output_type": "stream",
     "text": [
      "['../../data/exp_data_v0//METEOGRAM_patch001_20211027_awipev.nc', '../../data/exp_data_v0//METEOGRAM_patch001_20211016_awipev.nc', '../../data/exp_data_v0//METEOGRAM_patch001_20211006_awipev.nc', '../../data/exp_data_v0//METEOGRAM_patch001_20211024_awipev.nc', '../../data/exp_data_v0//METEOGRAM_patch001_20211005_awipev.nc', '../../data/exp_data_v0//METEOGRAM_patch001_20211031_awipev.nc', '../../data/exp_data_v0//METEOGRAM_patch001_20211029_awipev.nc', '../../data/exp_data_v0//METEOGRAM_patch001_20211011_awipev.nc', '../../data/exp_data_v0//METEOGRAM_patch001_20211022_awipev.nc', '../../data/exp_data_v0//METEOGRAM_patch001_20211001_awipev.nc', '../../data/exp_data_v0//METEOGRAM_patch001_20211026_awipev.nc', '../../data/exp_data_v0//METEOGRAM_patch001_20211009_awipev.nc', '../../data/exp_data_v0//METEOGRAM_patch001_20211010_awipev.nc', '../../data/exp_data_v0//METEOGRAM_patch001_20211028_awipev.nc', '../../data/exp_data_v0//METEOGRAM_patch001_20211025_awipev.nc', '../../data/exp_data_v0//METEOGRAM_patch001_20211012_awipev.nc', '../../data/exp_data_v0//METEOGRAM_patch001_20211004_awipev.nc', '../../data/exp_data_v0//METEOGRAM_patch001_20211008_awipev.nc', '../../data/exp_data_v0//METEOGRAM_patch001_20211003_awipev.nc', '../../data/exp_data_v0//METEOGRAM_patch001_20211013_awipev.nc', '../../data/exp_data_v0//METEOGRAM_patch001_20211014_awipev.nc', '../../data/exp_data_v0//METEOGRAM_patch001_20211017_awipev.nc', '../../data/exp_data_v0//METEOGRAM_patch001_20211007_awipev.nc', '../../data/exp_data_v0//METEOGRAM_patch001_20211015_awipev.nc', '../../data/exp_data_v0//METEOGRAM_patch001_20211023_awipev.nc', '../../data/exp_data_v0//METEOGRAM_patch001_20211020_awipev.nc', '../../data/exp_data_v0//METEOGRAM_patch001_20211021_awipev.nc', '../../data/exp_data_v0//METEOGRAM_patch001_20211030_awipev.nc', '../../data/exp_data_v0//METEOGRAM_patch001_20211002_awipev.nc', '../../data/exp_data_v0//METEOGRAM_patch001_20211018_awipev.nc', '../../data/exp_data_v0//METEOGRAM_patch001_20211019_awipev.nc']\n"
     ]
    }
   ],
   "source": [
    "# open all the files which are in the common elements list exp_dates\n",
    "exp_dir_names_v0 = [exp_path+exp_name_v0+'/METEOGRAM_patch001_'+exp_date+'_awipev.nc' for exp_date in exp_dates]\n",
    "exp_dir_names_v1 = [exp_path+exp_name_v1+'/METEOGRAM_patch001_'+exp_date+'_awipev.nc' for exp_date in exp_dates]\n",
    "print(exp_dir_names_v0)\n",
    "\n",
    "\n",
    "ds_v1 = xr.open_mfdataset(exp_dir_names_v1, combine='by_coords', parallel=True)\n",
    "ds_v0 = xr.open_mfdataset(exp_dir_names_v0, combine='by_coords', parallel=True)"
   ]
  },
  {
   "cell_type": "code",
   "execution_count": 8,
   "metadata": {},
   "outputs": [],
   "source": [
    "# remove the first three hours each day\n",
    "ds_v1 = ds_v1.where(ds_v1.time.dt.hour >= 3, drop=True)\n",
    "ds_v0 = ds_v0.where(ds_v0.time.dt.hour >= 3, drop=True)\n",
    "\n",
    "# select only the first 100 layers of height and 99 layers of height_2 \n",
    "ds_v1 = ds_v1.isel(height=slice(50,len(ds_v1.height)), height_2=slice(50,len(ds_v1.height_2)))\n",
    "ds_v0 = ds_v0.isel(height=slice(50,len(ds_v0.height)), height_2=slice(50,len(ds_v0.height_2)))\n"
   ]
  },
  {
   "cell_type": "code",
   "execution_count": 9,
   "metadata": {},
   "outputs": [],
   "source": [
    "# create a dataframe containing QNC, QNI, QNS, QNR, QNG, QNH\n",
    "df_QN_v1 = pd.DataFrame({'QNC': ds_v1['QNC'].values.flatten(),\n",
    "                        'QNI': ds_v1['QNI'].values.flatten(),\n",
    "                        'QNS': ds_v1['QNS'].values.flatten(),\n",
    "                        'QNR': ds_v1['QNR'].values.flatten(),\n",
    "                        'QNG': ds_v1['QNG'].values.flatten(),\n",
    "                        'QNH': ds_v1['QNH'].values.flatten()},\n",
    "                        columns=['QNC', 'QNI', 'QNS', 'QNR', 'QNG', 'QNH']\n",
    "                        )\n",
    "\n",
    "\n",
    "df_QN_v0 = pd.DataFrame({'QNC': ds_v0['QNC'].values.flatten(),\n",
    "                        'QNI': ds_v0['QNI'].values.flatten(),\n",
    "                        'QNS': ds_v0['QNS'].values.flatten(),\n",
    "                        'QNR': ds_v0['QNR'].values.flatten(),\n",
    "                        'QNG': ds_v0['QNG'].values.flatten(),\n",
    "                        'QNH': ds_v0['QNH'].values.flatten()},\n",
    "                        columns=['QNC', 'QNI', 'QNS', 'QNR', 'QNG', 'QNH']\n",
    "                        )"
   ]
  },
  {
   "cell_type": "code",
   "execution_count": 10,
   "metadata": {},
   "outputs": [],
   "source": [
    "df_Q_v1 = pd.DataFrame({'QC': ds_v1['QC'].values.flatten(),\n",
    "                        'QI': ds_v1['QI'].values.flatten(),\n",
    "                        'QS': ds_v1['QS'].values.flatten(),\n",
    "                        'QR': ds_v1['QR'].values.flatten(),\n",
    "                        'QG': ds_v1['QG'].values.flatten(),\n",
    "                        'QH': ds_v1['QH'].values.flatten()},\n",
    "                        columns=['QC', 'QI', 'QS', 'QR', 'QG', 'QH']\n",
    "                        )\n",
    "\n",
    "\n",
    "df_Q_v0 = pd.DataFrame({'QC': ds_v0['QC'].values.flatten(),\n",
    "                        'QI': ds_v0['QI'].values.flatten(),\n",
    "                        'QS': ds_v0['QS'].values.flatten(),\n",
    "                        'QR': ds_v0['QR'].values.flatten(),\n",
    "                        'QG': ds_v0['QG'].values.flatten(),\n",
    "                        'QH': ds_v0['QH'].values.flatten()},\n",
    "                        columns=['QC', 'QI', 'QS', 'QR', 'QG', 'QH']\n",
    "                        )\n"
   ]
  },
  {
   "cell_type": "code",
   "execution_count": 11,
   "metadata": {},
   "outputs": [],
   "source": [
    "# only select values where there are clouds using sum of df_Q variables\n",
    "df_QN_cloudy_v1 = df_QN_v1[(df_Q_v1['QC']+df_Q_v1['QI']+df_Q_v1['QS']+df_Q_v1['QR']+df_Q_v1['QG']+df_Q_v1['QH']) >= 1e-8]\n",
    "df_Q_cloudy_v1 = df_Q_v1[(df_Q_v1['QC']+df_Q_v1['QI']+df_Q_v1['QS']+df_Q_v1['QR']+df_Q_v1['QG']+df_Q_v1['QH']) >= 1e-8]\n",
    "\n",
    "df_QN_cloudy_v0 = df_QN_v0[(df_Q_v0['QC']+df_Q_v0['QI']+df_Q_v0['QS']+df_Q_v0['QR']+df_Q_v0['QG']+df_Q_v0['QH']) >= 1e-8]\n",
    "df_Q_cloudy_v0 = df_Q_v0[(df_Q_v0['QC']+df_Q_v0['QI']+df_Q_v0['QS']+df_Q_v0['QR']+df_Q_v0['QG']+df_Q_v0['QH']) >= 1e-8]\n"
   ]
  },
  {
   "cell_type": "code",
   "execution_count": 12,
   "metadata": {},
   "outputs": [],
   "source": [
    "#store the dataframe in a csv file\n",
    "df_QN_cloudy_v1.to_csv('../../data/processed/df_QN_v1_Oct2021.csv')\n",
    "df_QN_cloudy_v0.to_csv('../../data/processed/df_QN_v0_Oct2021.csv')\n"
   ]
  },
  {
   "cell_type": "code",
   "execution_count": null,
   "metadata": {},
   "outputs": [],
   "source": [
    "df_Q_cloudy_v1.to_csv('../../data/processed/df_Q_v1_Oct2021.csv')\n",
    "df_Q_cloudy_v0.to_csv('../../data/processed/df_Q_v0_Oct2021.csv')"
   ]
  },
  {
   "cell_type": "code",
   "execution_count": 13,
   "metadata": {},
   "outputs": [],
   "source": [
    "# close all open datasets\n",
    "ds_v1.close()\n",
    "ds_v0.close()\n"
   ]
  }
 ],
 "metadata": {
  "kernelspec": {
   "display_name": "python3.10",
   "language": "python",
   "name": "python3"
  },
  "language_info": {
   "codemirror_mode": {
    "name": "ipython",
    "version": 3
   },
   "file_extension": ".py",
   "mimetype": "text/x-python",
   "name": "python",
   "nbconvert_exporter": "python",
   "pygments_lexer": "ipython3",
   "version": "3.10.12"
  },
  "orig_nbformat": 4
 },
 "nbformat": 4,
 "nbformat_minor": 2
}
